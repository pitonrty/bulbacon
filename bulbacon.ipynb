{
 "cells": [
  {
   "cell_type": "markdown",
   "metadata": {},
   "source": [
    "### Аналитическое решение"
   ]
  },
  {
   "cell_type": "markdown",
   "metadata": {},
   "source": [
    "Для того, чтобы король через 5 ходов находился на начальной клетке, необходимо и достаточно, чтобы он не сдвинулся\n",
    "по вертикали и горизонтали одновременно. \n",
    "Чтобы он остался недвижим по горизонтали, нужно чтобы он чётное количество раз (0, 1 или 2) двинулся влево и вправо.\n",
    "Общая вероятность такого события, учитывая все перестановки и независимость ходов:\n",
    "0.4 ** 5 + 20 * 0.4 ** 4 * 0.2 + 30 * 0.4 ** 3 * 0.2 ** 2 = 0.18944\n",
    "Вероятность того, что он не сдвинется по вертикали рассчитывается абсолютно аналогично с соответствующими вероятностями:\n",
    "0.5 ** 5 + 20 * 0.3 * 0.2 * 0.5 ** 3 + 30 * 0.5 * 0.06 ** 2 = 0.23525\n",
    "Тогда искомая вероятность - это произведение вероятностей независимых движений по вертикали и горизонтали:\n",
    "0.04456576"
   ]
  },
  {
   "cell_type": "markdown",
   "metadata": {},
   "source": [
    "### Моделирование"
   ]
  },
  {
   "cell_type": "code",
   "execution_count": 14,
   "metadata": {
    "collapsed": true
   },
   "outputs": [],
   "source": [
    "import random as rd\n",
    "from tqdm import tqdm"
   ]
  },
  {
   "cell_type": "code",
   "execution_count": 15,
   "metadata": {
    "collapsed": false
   },
   "outputs": [],
   "source": [
    "def VerticalMove():\n",
    "    p = rd.random()\n",
    "    if p <= 0.3:\n",
    "        move = 1\n",
    "    elif (p > 0.3) & (p <=0.5):\n",
    "        move = -1\n",
    "    else:\n",
    "        move = 0\n",
    "    return move\n",
    "\n",
    "def HorizontalMove():\n",
    "    p = rd.random()\n",
    "    if p <= 0.4:\n",
    "        move = 1\n",
    "    elif (p > 0.4) & (p <=0.6):\n",
    "        move = -1\n",
    "    else:\n",
    "        move = 0\n",
    "    return move"
   ]
  },
  {
   "cell_type": "code",
   "execution_count": 22,
   "metadata": {
    "collapsed": false
   },
   "outputs": [
    {
     "name": "stderr",
     "output_type": "stream",
     "text": [
      "100%|██████████| 10000000/10000000 [00:40<00:00, 247418.81it/s]"
     ]
    },
    {
     "name": "stdout",
     "output_type": "stream",
     "text": [
      "Вероятность остаться на начальной клетке: 0.0445538\n"
     ]
    },
    {
     "name": "stderr",
     "output_type": "stream",
     "text": [
      "\n"
     ]
    }
   ],
   "source": [
    "result = 0\n",
    "for j in tqdm(range(10 ** 7)):\n",
    "    point = [0, 0]\n",
    "    for i in range(5):\n",
    "        point[0] += VerticalMove()\n",
    "        point[1] += HorizontalMove()\n",
    "    if point == [0, 0]:\n",
    "        result += 1\n",
    "print('Вероятность остаться на начальной клетке:', result / 10 ** 7)"
   ]
  },
  {
   "cell_type": "markdown",
   "metadata": {},
   "source": [
    "Как видно, эмпирическая вероятность соотносится с рассчитанной аналитически"
   ]
  },
  {
   "cell_type": "code",
   "execution_count": 13,
   "metadata": {
    "collapsed": false
   },
   "outputs": [
    {
     "data": {
      "text/plain": [
       "0.18944000000000005"
      ]
     },
     "execution_count": 13,
     "metadata": {},
     "output_type": "execute_result"
    }
   ],
   "source": [
    "0.4 ** 5 + 20 * 0.4 ** 4 * 0.2 + 30 * 0.4 ** 3 * 0.2 ** 2 "
   ]
  },
  {
   "cell_type": "code",
   "execution_count": 12,
   "metadata": {
    "collapsed": false
   },
   "outputs": [
    {
     "data": {
      "text/plain": [
       "0.23525000000000001"
      ]
     },
     "execution_count": 12,
     "metadata": {},
     "output_type": "execute_result"
    }
   ],
   "source": [
    "0.5 ** 5 + 20 * 0.3 * 0.2 * 0.5 ** 3 + 30 * 0.5 * 0.06 ** 2"
   ]
  },
  {
   "cell_type": "code",
   "execution_count": 11,
   "metadata": {
    "collapsed": false
   },
   "outputs": [
    {
     "data": {
      "text/plain": [
       "0.04456576000000002"
      ]
     },
     "execution_count": 11,
     "metadata": {},
     "output_type": "execute_result"
    }
   ],
   "source": [
    "(0.4 ** 5 + 20 * 0.4 ** 4 * 0.2 + 30 * 0.4 ** 3 * 0.2 ** 2) * (0.5 ** 5 + 20 * 0.3 * 0.2 * 0.5 ** 3 + 30 * 0.5 * 0.06 ** 2)"
   ]
  }
 ],
 "metadata": {
  "anaconda-cloud": {},
  "kernelspec": {
   "display_name": "Python [default]",
   "language": "python",
   "name": "python3"
  },
  "language_info": {
   "codemirror_mode": {
    "name": "ipython",
    "version": 3
   },
   "file_extension": ".py",
   "mimetype": "text/x-python",
   "name": "python",
   "nbconvert_exporter": "python",
   "pygments_lexer": "ipython3",
   "version": "3.5.2"
  }
 },
 "nbformat": 4,
 "nbformat_minor": 1
}
